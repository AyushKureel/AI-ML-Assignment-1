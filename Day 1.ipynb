{
 "cells": [
  {
   "cell_type": "code",
   "execution_count": null,
   "id": "18742d2c",
   "metadata": {},
   "outputs": [],
   "source": [
    "# List Some Mega Projects hosted in Python\n",
    "# Database Projects: Management Systems (Library, Hotel, Hospital, School)\n",
    "# ML Projects: Classification\n",
    "# AI Projects: Chatbots, face detection and recognition, speech recognition, Security\n",
    "# Data Science Projects: Global Terrorism Analysis, Call Data Record Analysis"
   ]
  },
  {
   "cell_type": "code",
   "execution_count": null,
   "id": "e021bb2f",
   "metadata": {},
   "outputs": [],
   "source": [
    "# List Python Libraries Used in Different IT Domains\n",
    "# Pandas, numpy, matplotlib, tkinter, sklearn, tensorflow"
   ]
  },
  {
   "cell_type": "code",
   "execution_count": 5,
   "id": "d53b8c8b",
   "metadata": {},
   "outputs": [
    {
     "name": "stdout",
     "output_type": "stream",
     "text": [
      "Hello World\n",
      "Sum is : 50\n"
     ]
    }
   ],
   "source": [
    "print(\"Hello World\")\n",
    "a = 45\n",
    "b = 5\n",
    "c = a+b\n",
    "print(\"Sum is :\", c)"
   ]
  },
  {
   "cell_type": "code",
   "execution_count": null,
   "id": "bd0e9470",
   "metadata": {},
   "outputs": [],
   "source": []
  }
 ],
 "metadata": {
  "kernelspec": {
   "display_name": "Python 3 (ipykernel)",
   "language": "python",
   "name": "python3"
  },
  "language_info": {
   "codemirror_mode": {
    "name": "ipython",
    "version": 3
   },
   "file_extension": ".py",
   "mimetype": "text/x-python",
   "name": "python",
   "nbconvert_exporter": "python",
   "pygments_lexer": "ipython3",
   "version": "3.10.9"
  }
 },
 "nbformat": 4,
 "nbformat_minor": 5
}
