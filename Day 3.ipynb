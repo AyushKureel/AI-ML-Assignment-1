{
 "cells": [
  {
   "cell_type": "code",
   "execution_count": 1,
   "id": "d5d2ce0b",
   "metadata": {},
   "outputs": [],
   "source": [
    "# A data structure is a particular way of organizing data in a computer so that it can be used effectively.\n",
    "# Some of the data structures are:\n",
    "# 1. Arrays\n",
    "# 2. Link List\n",
    "# 3. Queue\n",
    "# 4. Trees\n",
    "# 5. stack"
   ]
  },
  {
   "cell_type": "code",
   "execution_count": 4,
   "id": "f7189560",
   "metadata": {},
   "outputs": [
    {
     "name": "stdout",
     "output_type": "stream",
     "text": [
      "['Ayush', 'Manan', 'Sarthak', 'Prakhar', 'Anant']\n"
     ]
    }
   ],
   "source": [
    "friends=['Ayush','Manan','Sarthak','Prakhar','Anant']\n",
    "print(friends)"
   ]
  },
  {
   "cell_type": "code",
   "execution_count": 5,
   "id": "41b2d56d",
   "metadata": {},
   "outputs": [
    {
     "name": "stdout",
     "output_type": "stream",
     "text": [
      "Help on class list in module builtins:\n",
      "\n",
      "class list(object)\n",
      " |  list(iterable=(), /)\n",
      " |  \n",
      " |  Built-in mutable sequence.\n",
      " |  \n",
      " |  If no argument is given, the constructor creates a new empty list.\n",
      " |  The argument must be an iterable if specified.\n",
      " |  \n",
      " |  Methods defined here:\n",
      " |  \n",
      " |  __add__(self, value, /)\n",
      " |      Return self+value.\n",
      " |  \n",
      " |  __contains__(self, key, /)\n",
      " |      Return key in self.\n",
      " |  \n",
      " |  __delitem__(self, key, /)\n",
      " |      Delete self[key].\n",
      " |  \n",
      " |  __eq__(self, value, /)\n",
      " |      Return self==value.\n",
      " |  \n",
      " |  __ge__(self, value, /)\n",
      " |      Return self>=value.\n",
      " |  \n",
      " |  __getattribute__(self, name, /)\n",
      " |      Return getattr(self, name).\n",
      " |  \n",
      " |  __getitem__(...)\n",
      " |      x.__getitem__(y) <==> x[y]\n",
      " |  \n",
      " |  __gt__(self, value, /)\n",
      " |      Return self>value.\n",
      " |  \n",
      " |  __iadd__(self, value, /)\n",
      " |      Implement self+=value.\n",
      " |  \n",
      " |  __imul__(self, value, /)\n",
      " |      Implement self*=value.\n",
      " |  \n",
      " |  __init__(self, /, *args, **kwargs)\n",
      " |      Initialize self.  See help(type(self)) for accurate signature.\n",
      " |  \n",
      " |  __iter__(self, /)\n",
      " |      Implement iter(self).\n",
      " |  \n",
      " |  __le__(self, value, /)\n",
      " |      Return self<=value.\n",
      " |  \n",
      " |  __len__(self, /)\n",
      " |      Return len(self).\n",
      " |  \n",
      " |  __lt__(self, value, /)\n",
      " |      Return self<value.\n",
      " |  \n",
      " |  __mul__(self, value, /)\n",
      " |      Return self*value.\n",
      " |  \n",
      " |  __ne__(self, value, /)\n",
      " |      Return self!=value.\n",
      " |  \n",
      " |  __repr__(self, /)\n",
      " |      Return repr(self).\n",
      " |  \n",
      " |  __reversed__(self, /)\n",
      " |      Return a reverse iterator over the list.\n",
      " |  \n",
      " |  __rmul__(self, value, /)\n",
      " |      Return value*self.\n",
      " |  \n",
      " |  __setitem__(self, key, value, /)\n",
      " |      Set self[key] to value.\n",
      " |  \n",
      " |  __sizeof__(self, /)\n",
      " |      Return the size of the list in memory, in bytes.\n",
      " |  \n",
      " |  append(self, object, /)\n",
      " |      Append object to the end of the list.\n",
      " |  \n",
      " |  clear(self, /)\n",
      " |      Remove all items from list.\n",
      " |  \n",
      " |  copy(self, /)\n",
      " |      Return a shallow copy of the list.\n",
      " |  \n",
      " |  count(self, value, /)\n",
      " |      Return number of occurrences of value.\n",
      " |  \n",
      " |  extend(self, iterable, /)\n",
      " |      Extend list by appending elements from the iterable.\n",
      " |  \n",
      " |  index(self, value, start=0, stop=9223372036854775807, /)\n",
      " |      Return first index of value.\n",
      " |      \n",
      " |      Raises ValueError if the value is not present.\n",
      " |  \n",
      " |  insert(self, index, object, /)\n",
      " |      Insert object before index.\n",
      " |  \n",
      " |  pop(self, index=-1, /)\n",
      " |      Remove and return item at index (default last).\n",
      " |      \n",
      " |      Raises IndexError if list is empty or index is out of range.\n",
      " |  \n",
      " |  remove(self, value, /)\n",
      " |      Remove first occurrence of value.\n",
      " |      \n",
      " |      Raises ValueError if the value is not present.\n",
      " |  \n",
      " |  reverse(self, /)\n",
      " |      Reverse *IN PLACE*.\n",
      " |  \n",
      " |  sort(self, /, *, key=None, reverse=False)\n",
      " |      Sort the list in ascending order and return None.\n",
      " |      \n",
      " |      The sort is in-place (i.e. the list itself is modified) and stable (i.e. the\n",
      " |      order of two equal elements is maintained).\n",
      " |      \n",
      " |      If a key function is given, apply it once to each list item and sort them,\n",
      " |      ascending or descending, according to their function values.\n",
      " |      \n",
      " |      The reverse flag can be set to sort in descending order.\n",
      " |  \n",
      " |  ----------------------------------------------------------------------\n",
      " |  Class methods defined here:\n",
      " |  \n",
      " |  __class_getitem__(...) from builtins.type\n",
      " |      See PEP 585\n",
      " |  \n",
      " |  ----------------------------------------------------------------------\n",
      " |  Static methods defined here:\n",
      " |  \n",
      " |  __new__(*args, **kwargs) from builtins.type\n",
      " |      Create and return a new object.  See help(type) for accurate signature.\n",
      " |  \n",
      " |  ----------------------------------------------------------------------\n",
      " |  Data and other attributes defined here:\n",
      " |  \n",
      " |  __hash__ = None\n",
      "\n"
     ]
    }
   ],
   "source": [
    "help(list)"
   ]
  },
  {
   "cell_type": "code",
   "execution_count": 6,
   "id": "c565f028",
   "metadata": {},
   "outputs": [
    {
     "name": "stdout",
     "output_type": "stream",
     "text": [
      "['Ayush', 'Manan', 'Sarthak', 'Prakhar', 'Anant', 'Ram']\n"
     ]
    }
   ],
   "source": [
    "friends.append(\"Ram\")\n",
    "print(friends)"
   ]
  },
  {
   "cell_type": "code",
   "execution_count": 7,
   "id": "b6969688",
   "metadata": {},
   "outputs": [
    {
     "name": "stdout",
     "output_type": "stream",
     "text": [
      "['Anant', 'Ayush', 'Manan', 'Prakhar', 'Ram', 'Sarthak']\n"
     ]
    }
   ],
   "source": [
    "friends.sort()\n",
    "print(friends)"
   ]
  },
  {
   "cell_type": "code",
   "execution_count": 8,
   "id": "c143a063",
   "metadata": {},
   "outputs": [
    {
     "name": "stdout",
     "output_type": "stream",
     "text": [
      "['Sarthak', 'Ram', 'Prakhar', 'Manan', 'Ayush', 'Anant']\n"
     ]
    }
   ],
   "source": [
    "friends.reverse()\n",
    "print(friends)"
   ]
  },
  {
   "cell_type": "code",
   "execution_count": 10,
   "id": "14068d9e",
   "metadata": {},
   "outputs": [
    {
     "name": "stdout",
     "output_type": "stream",
     "text": [
      "['Sarthak', 'Ram', 'Prakhar', 'Manan', 'Ayush', 'Anant', 'Rohit', 'Shivam']\n"
     ]
    }
   ],
   "source": [
    "friends2=[\"Rohit\",\"Shivam\"]\n",
    "friends.extend(friends2)\n",
    "print(friends)"
   ]
  },
  {
   "cell_type": "code",
   "execution_count": 12,
   "id": "c3fe89a5",
   "metadata": {},
   "outputs": [
    {
     "name": "stdout",
     "output_type": "stream",
     "text": [
      "['Sarthak', 'Ram', 'Prakhar', 'Manan', 'Ayush', 'Anant', 'Rohit', 'Shivam', 'Rohit', 'Shivam']\n"
     ]
    }
   ],
   "source": [
    "dost=friends+friends2\n",
    "print(dost)"
   ]
  },
  {
   "cell_type": "code",
   "execution_count": null,
   "id": "9f64e9bf",
   "metadata": {},
   "outputs": [],
   "source": [
    "# 1. Ordered Data Type:\n",
    "# An ordered data type preserves the order of the elements as they are added or inserted. This means that the elements have \n",
    "# a specific position or index associated with them. In Python, the primary ordered data type is the \"list\" object. Lists \n",
    "# allow you to store multiple elements in a specific order and access them by their index.\n",
    "\n",
    "# 2. Unordered Data Type:\n",
    "# An unordered data type does not preserve the order of the elements. Instead, it uses a different mechanism to store and \n",
    "# access the elements efficiently. In Python, the primary unordered data type is the \"set\" object. Sets are collections of \n",
    "# unique elements, and their order is not guaranteed."
   ]
  },
  {
   "cell_type": "code",
   "execution_count": null,
   "id": "f830e6af",
   "metadata": {},
   "outputs": [],
   "source": [
    "# The types of each value given in Python are as follows:\n",
    "\n",
    "# a. 100: (int)\n",
    "\n",
    "# b. 105.5: (float)\n",
    "\n",
    "# c. 192.56j: (complex) \n",
    "\n",
    "# d. 10+6j: (complex) \n",
    "\n",
    "# e. '10': (string)\n",
    "\n",
    "# f. 'Hello world': (string)\n",
    "\n",
    "# g. [10, 20, 50, 100]: (list)\n",
    "\n",
    "# h. {'name': 'sachin', 'age': 24, 'language': 'python'}: (dictionary)"
   ]
  }
 ],
 "metadata": {
  "kernelspec": {
   "display_name": "Python 3 (ipykernel)",
   "language": "python",
   "name": "python3"
  },
  "language_info": {
   "codemirror_mode": {
    "name": "ipython",
    "version": 3
   },
   "file_extension": ".py",
   "mimetype": "text/x-python",
   "name": "python",
   "nbconvert_exporter": "python",
   "pygments_lexer": "ipython3",
   "version": "3.10.9"
  }
 },
 "nbformat": 4,
 "nbformat_minor": 5
}
