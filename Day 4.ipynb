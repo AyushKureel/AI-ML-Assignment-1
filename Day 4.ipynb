{
 "cells": [
  {
   "cell_type": "code",
   "execution_count": null,
   "id": "c614180d",
   "metadata": {},
   "outputs": [],
   "source": [
    "# Explore split, strip, replace, center, title methods of string data type in python "
   ]
  },
  {
   "cell_type": "code",
   "execution_count": 1,
   "id": "b3f08688",
   "metadata": {},
   "outputs": [
    {
     "name": "stdout",
     "output_type": "stream",
     "text": [
      "['Hello,', 'My', 'name', 'is', 'Ayush.']\n"
     ]
    }
   ],
   "source": [
    "str=\"Hello, My name is Ayush.\"\n",
    "splitstr=str.split()\n",
    "print(splitstr)"
   ]
  },
  {
   "cell_type": "code",
   "execution_count": 3,
   "id": "6bb37521",
   "metadata": {},
   "outputs": [
    {
     "name": "stdout",
     "output_type": "stream",
     "text": [
      "This is a cleaned text.\n"
     ]
    }
   ],
   "source": [
    "text=\"    This is a cleaned text.    \"\n",
    "cleanedtext=text.strip()\n",
    "print(cleanedtext)"
   ]
  },
  {
   "cell_type": "code",
   "execution_count": 5,
   "id": "e428d541",
   "metadata": {},
   "outputs": [
    {
     "name": "stdout",
     "output_type": "stream",
     "text": [
      "I like oranges, but I also like bananas.\n"
     ]
    }
   ],
   "source": [
    "sentence = \"I like apples, but I also like bananas.\"\n",
    "new_sentence = sentence.replace(\"apples\", \"oranges\")\n",
    "print(new_sentence)"
   ]
  },
  {
   "cell_type": "code",
   "execution_count": 9,
   "id": "da9abbd3",
   "metadata": {},
   "outputs": [
    {
     "name": "stdout",
     "output_type": "stream",
     "text": [
      "**Hello**\n"
     ]
    }
   ],
   "source": [
    "text1 = \"Hello\"\n",
    "centered_text = text.center(9, \"*\")\n",
    "print(centered_text)"
   ]
  },
  {
   "cell_type": "code",
   "execution_count": 10,
   "id": "26f14d7b",
   "metadata": {},
   "outputs": [
    {
     "name": "stdout",
     "output_type": "stream",
     "text": [
      "Hello World\n"
     ]
    }
   ],
   "source": [
    "text2 = \"hello world\"\n",
    "title_text = text2.title()\n",
    "print(title_text)"
   ]
  },
  {
   "cell_type": "code",
   "execution_count": null,
   "id": "164c53f4",
   "metadata": {},
   "outputs": [],
   "source": [
    "# Explore append, pop, remove, sort methods of list data type"
   ]
  },
  {
   "cell_type": "code",
   "execution_count": 11,
   "id": "6de96ea6",
   "metadata": {},
   "outputs": [
    {
     "name": "stdout",
     "output_type": "stream",
     "text": [
      "[1, 2, 3, 4]\n"
     ]
    }
   ],
   "source": [
    "numbers = [1, 2, 3]\n",
    "numbers.append(4)\n",
    "print(numbers)"
   ]
  },
  {
   "cell_type": "code",
   "execution_count": 12,
   "id": "524bf4e0",
   "metadata": {},
   "outputs": [
    {
     "name": "stdout",
     "output_type": "stream",
     "text": [
      "banana\n",
      "['apple', 'cherry']\n"
     ]
    }
   ],
   "source": [
    "fruits = [\"apple\", \"banana\", \"cherry\"]\n",
    "removed_fruit = fruits.pop(1)\n",
    "print(removed_fruit)\n",
    "print(fruits)"
   ]
  },
  {
   "cell_type": "code",
   "execution_count": 14,
   "id": "433ddcf7",
   "metadata": {},
   "outputs": [
    {
     "name": "stdout",
     "output_type": "stream",
     "text": [
      "[1, 3, 2, 4]\n"
     ]
    }
   ],
   "source": [
    "numbers1 = [1, 2, 3, 2, 4]\n",
    "numbers1.remove(2)\n",
    "print(numbers1)"
   ]
  },
  {
   "cell_type": "code",
   "execution_count": 15,
   "id": "49de02a9",
   "metadata": {},
   "outputs": [
    {
     "name": "stdout",
     "output_type": "stream",
     "text": [
      "[1, 2, 3, 4]\n"
     ]
    }
   ],
   "source": [
    "numbers2 = [4, 2, 1, 3]\n",
    "numbers2.sort()\n",
    "print(numbers2)"
   ]
  },
  {
   "cell_type": "code",
   "execution_count": null,
   "id": "f87f2113",
   "metadata": {},
   "outputs": [],
   "source": [
    "# Create 5 real time lists to store some useful information in python"
   ]
  },
  {
   "cell_type": "code",
   "execution_count": 18,
   "id": "46592a5d",
   "metadata": {},
   "outputs": [
    {
     "name": "stdout",
     "output_type": "stream",
     "text": [
      "['Java', 'C', 'C++', 'Ruby']\n",
      "['Apple', 'Banana', 'Orange', 'Mango']\n",
      "['United States', 'Canada', 'United Kingdom', 'Australia']\n",
      "['Toyota', 'Honda', 'Ford', 'BMW']\n",
      "['Football', 'Basketball', 'Tennis', 'Cricket']\n"
     ]
    }
   ],
   "source": [
    "languages = ['Java', 'C', 'C++', 'Ruby']\n",
    "fruits = ['Apple', 'Banana', 'Orange', 'Mango']\n",
    "countries = ['United States', 'Canada', 'United Kingdom', 'Australia']\n",
    "car_brands = ['Toyota', 'Honda', 'Ford', 'BMW']\n",
    "sports = ['Football', 'Basketball', 'Tennis', 'Cricket']\n",
    "print(languages)\n",
    "print(fruits)\n",
    "print(countries)\n",
    "print(car_brands)\n",
    "print(sports)"
   ]
  },
  {
   "cell_type": "code",
   "execution_count": null,
   "id": "61f47145",
   "metadata": {},
   "outputs": [],
   "source": [
    "# What is difference between mutable and immutable data types in python "
   ]
  },
  {
   "cell_type": "code",
   "execution_count": 19,
   "id": "4a9d16fa",
   "metadata": {},
   "outputs": [],
   "source": [
    "# Mutable Data Types:\n",
    "# Mutable data types allow modifications to their values after they are created. \n",
    "# This means you can change, add, or remove elements without creating a new object. \n",
    "# Examples of mutable data types in Python include lists, dictionaries, and sets.\n",
    "\n",
    "# Immutable Data Types:\n",
    "# Immutable data types, on the other hand, do not allow modifications to their values once they are created. \n",
    "# If you want to change the value, you need to create a new object."
   ]
  },
  {
   "cell_type": "code",
   "execution_count": 20,
   "id": "143c5cda",
   "metadata": {},
   "outputs": [],
   "source": [
    "# What are identifiers, list rules of identifiers in python"
   ]
  },
  {
   "cell_type": "code",
   "execution_count": null,
   "id": "d337f9df",
   "metadata": {},
   "outputs": [],
   "source": [
    "# Here are the rules for naming identifiers in Python:\n",
    "\n",
    "# Valid Characters:\n",
    "\n",
    "# Identifiers can contain letters (a-z, A-Z), digits (0-9), and underscore (_).\n",
    "# They must start with a letter or an underscore.\n",
    "# Case Sensitivity:\n",
    "\n",
    "# Python is case-sensitive, so identifiers differing only in case are considered different.\n",
    "# For example, myVariable and myvariable are two distinct identifiers.\n",
    "# Reserved Words:\n",
    "\n",
    "# Identifiers cannot be reserved words (also known as keywords), which are predefined words with special meanings in Python.\n",
    "# Examples of reserved words include if, for, while, def, class, import, etc.\n",
    "# Length:\n",
    "\n",
    "# Identifiers can be of any length.\n",
    "# However, it's recommended to keep them concise and meaningful for readability.\n",
    "# Style Conventions:\n",
    "\n",
    "# Python follows the PEP 8 style guide, which recommends using lowercase letters and underscores for most \n",
    "# identifiers (snake_case).\n",
    "# Class names typically use the CamelCase convention, where each word starts with an uppercase letter.\n",
    "# Constants are usually written in uppercase letters with underscores as word separators."
   ]
  }
 ],
 "metadata": {
  "kernelspec": {
   "display_name": "Python 3 (ipykernel)",
   "language": "python",
   "name": "python3"
  },
  "language_info": {
   "codemirror_mode": {
    "name": "ipython",
    "version": 3
   },
   "file_extension": ".py",
   "mimetype": "text/x-python",
   "name": "python",
   "nbconvert_exporter": "python",
   "pygments_lexer": "ipython3",
   "version": "3.10.9"
  }
 },
 "nbformat": 4,
 "nbformat_minor": 5
}
