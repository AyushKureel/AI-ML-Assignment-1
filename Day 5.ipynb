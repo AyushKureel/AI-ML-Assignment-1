{
 "cells": [
  {
   "cell_type": "code",
   "execution_count": null,
   "id": "13a6f21f",
   "metadata": {},
   "outputs": [],
   "source": [
    "# Q1. What is difference between shallow copy and deep copy? "
   ]
  },
  {
   "cell_type": "code",
   "execution_count": null,
   "id": "41ccf0bb",
   "metadata": {},
   "outputs": [],
   "source": [
    "# Shallow Copy:\n",
    "# A shallow copy creates a new object and then copies the references of the original object's elements to the new object. \n",
    "# In other words, it creates a new container object but still references the original elements. \n",
    "# Therefore, any changes made to the original elements will be reflected in the shallow copy as well."
   ]
  },
  {
   "cell_type": "code",
   "execution_count": 5,
   "id": "1141a9ee",
   "metadata": {},
   "outputs": [
    {
     "name": "stdout",
     "output_type": "stream",
     "text": [
      "[1, 2, [3, 4, 5]]\n",
      "[1, 2, [3, 4, 5]]\n"
     ]
    }
   ],
   "source": [
    "import copy\n",
    "\n",
    "original_list = [1, 2, [3, 4]]\n",
    "shallow_copy = copy.copy(original_list)\n",
    "\n",
    "original_list[2].append(5)\n",
    "\n",
    "print(original_list)\n",
    "print(shallow_copy)     "
   ]
  },
  {
   "cell_type": "code",
   "execution_count": null,
   "id": "41797950",
   "metadata": {},
   "outputs": [],
   "source": [
    "# Deep Copy:\n",
    "# A deep copy creates a completely independent and new object, including all the nested objects. \n",
    "# It recursively copies the entire object hierarchy. \n",
    "# Therefore, any modifications made to the original object or its \n",
    "# nested objects will not affect the deep copy, as they are entirely separate."
   ]
  },
  {
   "cell_type": "code",
   "execution_count": 6,
   "id": "03d4fce7",
   "metadata": {},
   "outputs": [
    {
     "name": "stdout",
     "output_type": "stream",
     "text": [
      "[1, 2, [3, 4, 5]]\n",
      "[1, 2, [3, 4]]\n"
     ]
    }
   ],
   "source": [
    "import copy\n",
    "\n",
    "original_list = [1, 2, [3, 4]]\n",
    "deep_copy = copy.deepcopy(original_list)\n",
    "\n",
    "original_list[2].append(5)\n",
    "\n",
    "print(original_list)\n",
    "print(deep_copy)\n"
   ]
  },
  {
   "cell_type": "code",
   "execution_count": 8,
   "id": "9a9dbbc5",
   "metadata": {},
   "outputs": [],
   "source": [
    "# Q2. You want to create a library management application, you need to store data about books, students in your program, \n",
    "# how will you store data inside python using list?\n",
    "# Create some lists with fake data to store information about library management."
   ]
  },
  {
   "cell_type": "code",
   "execution_count": 20,
   "id": "2cedfd7d",
   "metadata": {},
   "outputs": [
    {
     "name": "stdout",
     "output_type": "stream",
     "text": [
      "[{'id': 1, 'title': 'Python Crash Course', 'author': 'Eric Matthes', 'status': 'Available'}, {'id': 2, 'title': 'Clean Code', 'author': 'Robert C. Martin', 'status': 'Borrowed'}, {'id': 3, 'title': 'The Alchemist', 'author': 'Paulo Coelho', 'status': 'Available'}]\n",
      "[{'id': 1, 'name': 'John Doe', 'age': 20, 'books_borrowed': [1, 3]}, {'id': 2, 'name': 'Jane Smith', 'age': 22, 'books_borrowed': [2]}, {'id': 3, 'name': 'Alex Johnson', 'age': 19, 'books_borrowed': [1]}]\n"
     ]
    }
   ],
   "source": [
    "# List to store book information\n",
    "books = [\n",
    "    {\"id\": 1, \"title\": \"Python Crash Course\", \"author\": \"Eric Matthes\", \"status\": \"Available\"},\n",
    "    {\"id\": 2, \"title\": \"Clean Code\", \"author\": \"Robert C. Martin\", \"status\": \"Borrowed\"},\n",
    "    {\"id\": 3, \"title\": \"The Alchemist\", \"author\": \"Paulo Coelho\", \"status\": \"Available\"},\n",
    "]\n",
    "\n",
    "# List to store student information\n",
    "students = [\n",
    "    {\"id\": 1, \"name\": \"John Doe\", \"age\": 20, \"books_borrowed\": [1, 3]},\n",
    "    {\"id\": 2, \"name\": \"Jane Smith\", \"age\": 22, \"books_borrowed\": [2]},\n",
    "    {\"id\": 3, \"name\": \"Alex Johnson\", \"age\": 19, \"books_borrowed\": [1]},\n",
    "]\n",
    "\n",
    "print(books)\n",
    "print(students)\n"
   ]
  },
  {
   "cell_type": "code",
   "execution_count": null,
   "id": "e87becbc",
   "metadata": {},
   "outputs": [],
   "source": [
    "# Q3. This chapter introduced assignment statements, like spam = 10.\n",
    "# What is the difference between an expression and a statement? "
   ]
  },
  {
   "cell_type": "code",
   "execution_count": 22,
   "id": "c64912c1",
   "metadata": {},
   "outputs": [],
   "source": [
    "# Expression:\n",
    "# An expression is a combination of variables, values, and operators that evaluates to a single value. \n",
    "# It represents a computation or calculation. Expressions can be simple, like 2 + 3, or more complex, involving function calls,\n",
    "# conditional expressions, or mathematical operations.\n",
    "\n",
    "# A statement is a complete line or block of code that performs an action or specifies a behavior. \n",
    "# It represents a command or an instruction that tells the computer to do something. \n",
    "# Statements are the building blocks of a program and are executed sequentially unless control flow statements like \n",
    "# conditionals or loops alter the execution order."
   ]
  },
  {
   "cell_type": "code",
   "execution_count": null,
   "id": "c1907d5a",
   "metadata": {},
   "outputs": [],
   "source": [
    "# Q4. Define following \n",
    "# Atomic data types / Primary data types \n",
    "# Secondary data type / User Defined Data Type "
   ]
  },
  {
   "cell_type": "code",
   "execution_count": null,
   "id": "42d5847b",
   "metadata": {},
   "outputs": [],
   "source": [
    "# Atomic data types, also known as primary data types, refer to the fundamental and predefined data types provided by a \n",
    "# programming language. These data types represent the basic building blocks for creating more complex data structures.\n",
    "# Examples: Integer(int), float, Boolean(bool), String"
   ]
  },
  {
   "cell_type": "code",
   "execution_count": null,
   "id": "fab0c0d4",
   "metadata": {},
   "outputs": [],
   "source": [
    "# Secondary data types, also known as derived data types, are data types that are built by combining primary or atomic data \n",
    "# types. These data types are derived from the primary data types and offer more complex and structured ways to represent and \n",
    "# organize data.\n",
    "# Examples: lists, tuples, dictionaries ,sets\n"
   ]
  }
 ],
 "metadata": {
  "kernelspec": {
   "display_name": "Python 3 (ipykernel)",
   "language": "python",
   "name": "python3"
  },
  "language_info": {
   "codemirror_mode": {
    "name": "ipython",
    "version": 3
   },
   "file_extension": ".py",
   "mimetype": "text/x-python",
   "name": "python",
   "nbconvert_exporter": "python",
   "pygments_lexer": "ipython3",
   "version": "3.10.9"
  }
 },
 "nbformat": 4,
 "nbformat_minor": 5
}
