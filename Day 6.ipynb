{
 "cells": [
  {
   "cell_type": "code",
   "execution_count": null,
   "id": "e2903038",
   "metadata": {},
   "outputs": [],
   "source": [
    "# Q1. Write down 10 projects ideas you want to implement using python"
   ]
  },
  {
   "cell_type": "code",
   "execution_count": null,
   "id": "be0e00d1",
   "metadata": {},
   "outputs": [],
   "source": [
    "# Chatbot: Develop a conversational chatbot using natural language processing and machine learning techniques to interact with\n",
    "# users and provide relevant responses.\n",
    "\n",
    "# Expense Tracker: Create an application that allows users to track their expenses, categorize them, and generate reports \n",
    "# using Python's data analysis libraries.\n",
    "\n",
    "# Weather App: Build a weather application that fetches real-time weather data from an API and provides users with current \n",
    "# weather conditions, forecasts, and alerts for their location.\n",
    "\n",
    "# Image Recognition: Develop a project that utilizes computer vision libraries like OpenCV and TensorFlow to build an image \n",
    "# recognition system capable of identifying and classifying objects or people in images.\n",
    "\n",
    "# News Aggregator: Create a program that collects news articles from various sources using web scraping techniques and \n",
    "# displays them in a single interface with options for filtering by category or keyword.\n",
    "\n",
    "# Social Media Analyzer: Build a tool that analyzes social media data, such as Twitter or Instagram, to extract insights, \n",
    "# track trends, or perform sentiment analysis on specific topics or user accounts.\n",
    "\n",
    "# Sudoku Solver: Implement an algorithm that solves Sudoku puzzles programmatically by applying logical deduction and \n",
    "# backtracking techniques.\n",
    "\n",
    "# Stock Market Analyzer: Develop a program that fetches real-time stock market data using APIs and provides users with \n",
    "# insights, visualizations, and predictions based on various technical indicators or machine learning models.\n",
    "\n",
    "# Password Manager: Create a secure password manager that allows users to store their login credentials, generate strong \n",
    "# passwords, and encrypt their data using Python's cryptography libraries.\n",
    "\n",
    "# Text-based RPG Game: Design and build a text-based role-playing game where players navigate through a virtual world, \n",
    "# interact with characters, complete quests, and engage in combat using Python's object-oriented programming capabilities."
   ]
  },
  {
   "cell_type": "code",
   "execution_count": null,
   "id": "e1e60ab4",
   "metadata": {},
   "outputs": [],
   "source": [
    "# Q2. Create at list 5 objects using list, dictionary, it will be good if you store realistic data   "
   ]
  },
  {
   "cell_type": "code",
   "execution_count": 1,
   "id": "542c0a1e",
   "metadata": {},
   "outputs": [
    {
     "name": "stdout",
     "output_type": "stream",
     "text": [
      "[{'name': 'Ayush', 'age': 19, 'major': 'Computer Science'}, {'name': 'Sarthak', 'age': 20, 'major': 'Biology'}, {'name': 'Anant', 'age': 20, 'major': 'Business'}, {'name': 'Prakhar', 'age': 20, 'major': 'Psychology'}]\n"
     ]
    }
   ],
   "source": [
    "students = [\n",
    "    {\"name\": \"Ayush\", \"age\": 19, \"major\": \"Computer Science\"},\n",
    "    {\"name\": \"Sarthak\", \"age\": 20, \"major\": \"Biology\"},\n",
    "    {\"name\": \"Anant\", \"age\": 20, \"major\": \"Business\"},\n",
    "    {\"name\": \"Prakhar\", \"age\": 20, \"major\": \"Psychology\"},\n",
    "]\n",
    "print(students)"
   ]
  },
  {
   "cell_type": "code",
   "execution_count": 2,
   "id": "a5fcd6be",
   "metadata": {},
   "outputs": [
    {
     "name": "stdout",
     "output_type": "stream",
     "text": [
      "[{'title': 'To Kill a Mockingbird', 'author': 'Harper Lee', 'year': 1960}, {'title': '1984', 'author': 'George Orwell', 'year': 1949}, {'title': 'The Great Gatsby', 'author': 'F. Scott Fitzgerald', 'year': 1925}, {'title': 'Pride and Prejudice', 'author': 'Jane Austen', 'year': 1813}]\n"
     ]
    }
   ],
   "source": [
    "books = [\n",
    "    {\"title\": \"To Kill a Mockingbird\", \"author\": \"Harper Lee\", \"year\": 1960},\n",
    "    {\"title\": \"1984\", \"author\": \"George Orwell\", \"year\": 1949},\n",
    "    {\"title\": \"The Great Gatsby\", \"author\": \"F. Scott Fitzgerald\", \"year\": 1925},\n",
    "    {\"title\": \"Pride and Prejudice\", \"author\": \"Jane Austen\", \"year\": 1813},\n",
    "]\n",
    "print(books)"
   ]
  },
  {
   "cell_type": "code",
   "execution_count": 3,
   "id": "5c8f6362",
   "metadata": {},
   "outputs": [
    {
     "name": "stdout",
     "output_type": "stream",
     "text": [
      "{'Germany': 'Berlin', 'France': 'Paris', 'United States': 'Washington, D.C.', 'Brazil': 'Brasília', 'Japan': 'Tokyo'}\n"
     ]
    }
   ],
   "source": [
    "countries = {\n",
    "    \"Germany\": \"Berlin\",\n",
    "    \"France\": \"Paris\",\n",
    "    \"United States\": \"Washington, D.C.\",\n",
    "    \"Brazil\": \"Brasília\",\n",
    "    \"Japan\": \"Tokyo\"\n",
    "}\n",
    "print(countries)"
   ]
  },
  {
   "cell_type": "code",
   "execution_count": 4,
   "id": "f45b80b8",
   "metadata": {},
   "outputs": [
    {
     "name": "stdout",
     "output_type": "stream",
     "text": [
      "[{'title': 'The Shawshank Redemption', 'director': 'Frank Darabont', 'year': 1994}, {'title': 'The Godfather', 'director': 'Francis Ford Coppola', 'year': 1972}, {'title': 'Pulp Fiction', 'director': 'Quentin Tarantino', 'year': 1994}, {'title': 'Inception', 'director': 'Christopher Nolan', 'year': 2010}]\n"
     ]
    }
   ],
   "source": [
    "movies = [\n",
    "    {\"title\": \"The Shawshank Redemption\", \"director\": \"Frank Darabont\", \"year\": 1994},\n",
    "    {\"title\": \"The Godfather\", \"director\": \"Francis Ford Coppola\", \"year\": 1972},\n",
    "    {\"title\": \"Pulp Fiction\", \"director\": \"Quentin Tarantino\", \"year\": 1994},\n",
    "    {\"title\": \"Inception\", \"director\": \"Christopher Nolan\", \"year\": 2010},\n",
    "]\n",
    "print(movies)"
   ]
  },
  {
   "cell_type": "code",
   "execution_count": 5,
   "id": "23bfb078",
   "metadata": {},
   "outputs": [
    {
     "name": "stdout",
     "output_type": "stream",
     "text": [
      "{'Apple': 50, 'Banana': 40, 'Milk': 17, 'Bread': 40, 'Coffee': 180}\n"
     ]
    }
   ],
   "source": [
    "products = {\n",
    "    \"Apple\": 50,\n",
    "    \"Banana\": 40,\n",
    "    \"Milk\": 17,\n",
    "    \"Bread\": 40,\n",
    "    \"Coffee\": 180\n",
    "}\n",
    "print(products)"
   ]
  },
  {
   "cell_type": "code",
   "execution_count": null,
   "id": "329cfb0f",
   "metadata": {},
   "outputs": [],
   "source": [
    "# What are operators? How many types of operators are there in python? \n",
    "\n",
    "# Arithmetic Operators:\n",
    "\n",
    "# Addition: +\n",
    "# Subtraction: -\n",
    "# Multiplication: *\n",
    "# Division: /\n",
    "# Floor Division: //\n",
    "# Modulo (Remainder): %\n",
    "# Exponentiation: **\n",
    "# Comparison Operators:\n",
    "\n",
    "# Equal to: ==\n",
    "# Not equal to: !=\n",
    "# Greater than: >\n",
    "# Less than: <\n",
    "# Greater than or equal to: >=\n",
    "# Less than or equal to: <=\n",
    "# Logical Operators:\n",
    "\n",
    "# Logical AND: and\n",
    "# Logical OR: or\n",
    "# Logical NOT: not\n",
    "# Assignment Operators:\n",
    "\n",
    "# Assign: =\n",
    "# Add and assign: +=\n",
    "# Subtract and assign: -=\n",
    "# Multiply and assign: *=\n",
    "# Divide and assign: /=\n",
    "# Modulo and assign: %=\n",
    "# Exponentiation and assign: **=\n",
    "# Floor division and assign: //=\n",
    "# Membership Operators:\n",
    "\n",
    "# in: Evaluates if a value is present in a sequence.\n",
    "# not in: Evaluates if a value is not present in a sequence.\n",
    "# Identity Operators:\n",
    "\n",
    "# is: Evaluates if two variables refer to the same object.\n",
    "# is not: Evaluates if two variables do not refer to the same object.\n",
    "# Bitwise Operators:\n",
    "\n",
    "# Bitwise AND: &\n",
    "# Bitwise OR: |\n",
    "# Bitwise XOR: ^\n",
    "# Bitwise NOT: ~\n",
    "# Left shift: <<\n",
    "# Right shift: >>"
   ]
  },
  {
   "cell_type": "code",
   "execution_count": null,
   "id": "9fc17752",
   "metadata": {},
   "outputs": [],
   "source": []
  }
 ],
 "metadata": {
  "kernelspec": {
   "display_name": "Python 3 (ipykernel)",
   "language": "python",
   "name": "python3"
  },
  "language_info": {
   "codemirror_mode": {
    "name": "ipython",
    "version": 3
   },
   "file_extension": ".py",
   "mimetype": "text/x-python",
   "name": "python",
   "nbconvert_exporter": "python",
   "pygments_lexer": "ipython3",
   "version": "3.10.9"
  }
 },
 "nbformat": 4,
 "nbformat_minor": 5
}
