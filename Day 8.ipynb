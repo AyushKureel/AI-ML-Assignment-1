{
 "cells": [
  {
   "cell_type": "code",
   "execution_count": 1,
   "id": "4a61ce0e",
   "metadata": {},
   "outputs": [],
   "source": [
    "# Q1.  What are the two values of the Boolean data type? How do you write them? \n",
    "# Ans. The Boolean data type in Python represents truth values, and there are two possible values: True and False. \n",
    "# These values are used to determine the logical state or outcome of conditions or expressions.\n",
    "# In Python, you write the Boolean value True and False exactly as shown, with the first letter capitalized and the rest \n",
    "# in lowercase."
   ]
  },
  {
   "cell_type": "code",
   "execution_count": 2,
   "id": "01f91443",
   "metadata": {},
   "outputs": [],
   "source": [
    "# Q2.  What are the three Boolean operators?\n",
    "# Ans. and Operator:\n",
    "#      The and operator returns True if both operands evaluate to True. Otherwise, it returns False.\n",
    "\n",
    "#      or Operator:\n",
    "#      The or operator returns True if at least one of the operands evaluates to True. If both operands are False, it returns\n",
    "#      False.\n",
    "\n",
    "#      not Operator:\n",
    "#      The not operator is a unary operator that negates the value of its operand. If the operand is True, it returns False, \n",
    "#      and if the operand is False, it returns True."
   ]
  },
  {
   "cell_type": "code",
   "execution_count": 3,
   "id": "ad659cb8",
   "metadata": {},
   "outputs": [],
   "source": [
    "# Q3.  Write out the truth tables of each Boolean operator\n",
    "# Ans. and Operator:\n",
    "#      Operand 1   Operand 2   Result\n",
    "#      True        True        True\n",
    "#      True        False       False\n",
    "#      False       True        False\n",
    "#      False       False       False\n",
    "\n",
    "\n",
    "# or Operator:\n",
    "# Operand 1    Operand 2    Result\n",
    "# True         True         True\n",
    "# True         False        True\n",
    "# False        True         True\n",
    "# False        False        False\n",
    "\n",
    "\n",
    "# not Operator:\n",
    "# Operand   Result\n",
    "# True      False\n",
    "# False     True"
   ]
  },
  {
   "cell_type": "code",
   "execution_count": 4,
   "id": "3516ffc9",
   "metadata": {},
   "outputs": [],
   "source": [
    "# Q4. What do the following expressions evaluate to? \n",
    "# (5 > 4) and (3 == 5) \n",
    "# not (5 > 4) \n",
    "# (5 > 4) or (3 == 5) \n",
    "# not ((5 > 4) or (3 == 5)) \n",
    "# (True and True) and (True == False) \n",
    "# (not False) or (not True) \n",
    "\n",
    "# Ans. (5 > 4) and (3 == 5) evaluates to False.\n",
    "#      not (5 > 4) evaluates to False.\n",
    "#      (5 > 4) or (3 == 5) evaluates to True.\n",
    "#      not ((5 > 4) or (3 == 5)) evaluates to False.\n",
    "#      (True and True) and (True == False) evaluates to False.\n",
    "#      (not False) or (not True) evaluates to True."
   ]
  },
  {
   "cell_type": "code",
   "execution_count": 5,
   "id": "288cbe32",
   "metadata": {},
   "outputs": [],
   "source": [
    "# Q5. What are the six comparison operators?\n",
    "\n",
    "# Ans.\n",
    "# The six comparison operators in Python are:\n",
    "\n",
    "# Equal to: ==\n",
    "# Checks if two operands are equal.\n",
    "# Example: 3 == 3 evaluates to True.\n",
    "\n",
    "# Not equal to: !=\n",
    "# Checks if two operands are not equal.\n",
    "# Example: 3 != 4 evaluates to True.\n",
    "\n",
    "# Greater than: >\n",
    "# Checks if the left operand is greater than the right operand.\n",
    "# Example: 5 > 3 evaluates to True.\n",
    "\n",
    "# Less than: <\n",
    "# Checks if the left operand is less than the right operand.\n",
    "# Example: 2 < 4 evaluates to True.\n",
    "\n",
    "# Greater than or equal to: >=\n",
    "# Checks if the left operand is greater than or equal to the right operand.\n",
    "# Example: 5 >= 5 evaluates to True.\n",
    "\n",
    "# Less than or equal to: <=\n",
    "# Checks if the left operand is less than or equal to the right operand.\n",
    "# Example: 2 <= 3 evaluates to True."
   ]
  },
  {
   "cell_type": "code",
   "execution_count": 6,
   "id": "b2e86af9",
   "metadata": {},
   "outputs": [],
   "source": [
    "# Q6. What is the difference between the equal to operator and the assignment operator? \n",
    "\n",
    "# Ans.\n",
    "# Equal to Operator (==):\n",
    "# The equal to operator is a comparison operator used to check if two values or expressions are equal. \n",
    "# It evaluates to True if the values are equal and False otherwise.\n",
    "\n",
    "# Assignment Operator (=):\n",
    "# The assignment operator is used to assign a value to a variable. \n",
    "# It assigns the value on the right side of the operator to the variable on the left side."
   ]
  },
  {
   "cell_type": "code",
   "execution_count": 7,
   "id": "bd31212a",
   "metadata": {},
   "outputs": [],
   "source": [
    "# Q7. Explain what a condition is and where you would use one. \n",
    "\n",
    "# Ans.\n",
    "# A condition is a statement or expression that evaluates to either True or False. It is used to control the flow of a \n",
    "# program and make decisions based on certain criteria. A condition allows your program to take different paths or execute \n",
    "# specific blocks of code depending on whether the condition is true or false.\n",
    "\n",
    "# Conditions are commonly used in programming constructs like conditional statements (e.g., if statements, if-else statements,\n",
    "# elif statements), loops (e.g., while loops, for loops), and other control flow structures."
   ]
  },
  {
   "cell_type": "code",
   "execution_count": null,
   "id": "9a76a6db",
   "metadata": {},
   "outputs": [],
   "source": []
  }
 ],
 "metadata": {
  "kernelspec": {
   "display_name": "Python 3 (ipykernel)",
   "language": "python",
   "name": "python3"
  },
  "language_info": {
   "codemirror_mode": {
    "name": "ipython",
    "version": 3
   },
   "file_extension": ".py",
   "mimetype": "text/x-python",
   "name": "python",
   "nbconvert_exporter": "python",
   "pygments_lexer": "ipython3",
   "version": "3.10.9"
  }
 },
 "nbformat": 4,
 "nbformat_minor": 5
}
