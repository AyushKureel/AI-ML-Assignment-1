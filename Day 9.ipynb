{
 "cells": [
  {
   "cell_type": "code",
   "execution_count": 2,
   "id": "828ee008",
   "metadata": {},
   "outputs": [
    {
     "name": "stdout",
     "output_type": "stream",
     "text": [
      "Enter a number: 6\n",
      "Positive\n"
     ]
    }
   ],
   "source": [
    "num = float(input(\"Enter a number: \"))\n",
    "if num > 0:\n",
    "    print(\"Positive\")\n",
    "elif num < 0:\n",
    "    print(\"Negative\")\n",
    "else:\n",
    "    print(\"Zero\")"
   ]
  },
  {
   "cell_type": "code",
   "execution_count": 6,
   "id": "b5c545e8",
   "metadata": {},
   "outputs": [
    {
     "name": "stdout",
     "output_type": "stream",
     "text": [
      "Enter a number: 8\n",
      "Not divisible by 5 and 11\n"
     ]
    }
   ],
   "source": [
    "num = int(input(\"Enter a number: \"))\n",
    "if num % 5 == 0 and num % 11 == 0:\n",
    "    print(\"Divisible by 5 and 11\")\n",
    "else:\n",
    "    print(\"Not divisible by 5 and 11\")"
   ]
  },
  {
   "cell_type": "code",
   "execution_count": 8,
   "id": "6dc5bf8b",
   "metadata": {},
   "outputs": [
    {
     "name": "stdout",
     "output_type": "stream",
     "text": [
      "Enter a year: 2016\n",
      "2016 is a leap year.\n"
     ]
    }
   ],
   "source": [
    "year = int(input(\"Enter a year: \"))\n",
    "if (year % 4 == 0 and year % 100 != 0) or year % 400 == 0:\n",
    "    print(year, \"is a leap year.\")\n",
    "else:\n",
    "    print(year, \"is not a leap year.\")"
   ]
  },
  {
   "cell_type": "code",
   "execution_count": 12,
   "id": "97f42f4e",
   "metadata": {},
   "outputs": [
    {
     "name": "stdout",
     "output_type": "stream",
     "text": [
      "Enter a character: 9\n",
      "9 is not an alphabet.\n"
     ]
    }
   ],
   "source": [
    "char = input(\"Enter a character: \")\n",
    "if (char >= 'a' and char <= 'z') or (char >= 'A' and char <= 'Z'):\n",
    "    print(char, \"is an alphabet.\")\n",
    "else:\n",
    "    print(char, \"is not an alphabet.\")"
   ]
  },
  {
   "cell_type": "code",
   "execution_count": 20,
   "id": "94fb30ae",
   "metadata": {},
   "outputs": [
    {
     "name": "stdout",
     "output_type": "stream",
     "text": [
      "Enter a character: a\n",
      "Vowel\n"
     ]
    }
   ],
   "source": [
    "char = (input(\"Enter a Alphabet: \"))\n",
    "if (char >= 'a' and char <= 'z') or (char >= 'A' and char <= 'Z'):\n",
    "    if (char==\"a\" or char==\"e\" or char==\"i\" or char==\"o\" or char==\"u\" or char==\"A\" or char==\"E\" or char==\"I\" or char==\"O\" or char==\"u\"):\n",
    "        print(\"Vowel\")\n",
    "    else:\n",
    "        print(\"Consonant\")\n",
    "else:\n",
    "    print(\"Invalid Input.\")"
   ]
  },
  {
   "cell_type": "code",
   "execution_count": 22,
   "id": "79162a5f",
   "metadata": {},
   "outputs": [
    {
     "name": "stdout",
     "output_type": "stream",
     "text": [
      "Enter a character: a\n",
      "It is a alphabet.\n"
     ]
    }
   ],
   "source": [
    "char = (input(\"Enter a character: \"))\n",
    "if char.isdigit():\n",
    "    print(\"It is a number.\")\n",
    "elif char.isalpha():\n",
    "    print(\"It is a alphabet.\")\n",
    "else:\n",
    "    print(\"It is a special character.\")"
   ]
  },
  {
   "cell_type": "code",
   "execution_count": 26,
   "id": "9f8ff76d",
   "metadata": {},
   "outputs": [
    {
     "name": "stdout",
     "output_type": "stream",
     "text": [
      "Enter a alphabet: ;\n",
      "Not an Alphabet\n"
     ]
    }
   ],
   "source": [
    "char = (input(\"Enter a alphabet: \"))\n",
    "if char.isupper():\n",
    "    print(\"Uppercase Alphabet\")\n",
    "elif char.islower():\n",
    "    print(\"Lowercase Alphabet\")\n",
    "else:\n",
    "    print(\"Not an Alphabet\")"
   ]
  },
  {
   "cell_type": "code",
   "execution_count": 33,
   "id": "12e7c8b2",
   "metadata": {},
   "outputs": [
    {
     "name": "stdout",
     "output_type": "stream",
     "text": [
      "Enter a angle1: 90\n",
      "Enter a angle2: 60\n",
      "Enter a angle3: 30\n",
      "It is a triangle.\n"
     ]
    }
   ],
   "source": [
    "angle1 = int(input(\"Enter a angle1: \"))\n",
    "angle2 = int(input(\"Enter a angle2: \"))\n",
    "angle3 = int(input(\"Enter a angle3: \"))\n",
    "if angle1 > 0 and angle2 > 0 and angle3 > 0:\n",
    "    if angle1 + angle2 + angle3 == 180:\n",
    "        print(\"It is a triangle.\")\n",
    "    else:\n",
    "        print(\"It is not a triangle.\")\n",
    "else:\n",
    "    print(\"It is not a triangle.\")"
   ]
  },
  {
   "cell_type": "code",
   "execution_count": 35,
   "id": "93fd6a26",
   "metadata": {},
   "outputs": [
    {
     "name": "stdout",
     "output_type": "stream",
     "text": [
      "Enter the length of side 1: 30\n",
      "Enter the length of side 2: 30\n",
      "Enter the length of side 3: 30\n",
      "It is a triangle.\n"
     ]
    }
   ],
   "source": [
    "side1 = float(input(\"Enter the length of side 1: \"))\n",
    "side2 = float(input(\"Enter the length of side 2: \"))\n",
    "side3 = float(input(\"Enter the length of side 3: \"))\n",
    "if side1 > 0 and side2 > 0 and side3 > 0: \n",
    "    if side1 + side2 > side3 and side2 + side3 > side1 and side1 + side3 > side2:\n",
    "        print(\"It is a triangle.\")\n",
    "    else:\n",
    "        print(\"It is not a triangle.\")\n",
    "else:\n",
    "    print(\"It is not a triangle.\")    "
   ]
  },
  {
   "cell_type": "code",
   "execution_count": 40,
   "id": "d3f06dd9",
   "metadata": {},
   "outputs": [
    {
     "name": "stdout",
     "output_type": "stream",
     "text": [
      "Enter the length of side 1: -0\n",
      "Enter the length of side 2: 0\n",
      "Enter the length of side 3: 89\n",
      "It is not a triangle.\n"
     ]
    }
   ],
   "source": [
    "side1 = float(input(\"Enter the length of side 1: \"))\n",
    "side2 = float(input(\"Enter the length of side 2: \"))\n",
    "side3 = float(input(\"Enter the length of side 3: \"))\n",
    "if side1 > 0 and side2 > 0 and side3 > 0:\n",
    "    if side1 + side2 > side3 and side2 + side3 > side1 and side1 + side3 > side2:\n",
    "        if side1 == side2 == side3:\n",
    "            print(\"It is a equilateral triangle.\")\n",
    "        elif side1 == side2 or side1 == side3 or side2 == side3:\n",
    "            print(\"It is a isoscelus triangle.\")\n",
    "        else:\n",
    "            print(\"It is a scalene triangle.\")\n",
    "    else:\n",
    "        print(\"It is not a triangle.\")\n",
    "else:\n",
    "    print(\"It is not a triangle.\")"
   ]
  },
  {
   "cell_type": "code",
   "execution_count": 41,
   "id": "f4c1d43d",
   "metadata": {},
   "outputs": [
    {
     "name": "stdout",
     "output_type": "stream",
     "text": [
      "Enter marks for Physics: 98\n",
      "Enter marks for Chemistry: 90\n",
      "Enter marks for Biology: 78\n",
      "Enter marks for Mathematics: 85\n",
      "Enter marks for Computer: 99\n",
      "Percentage: 90.00%\n",
      "Grade: A\n"
     ]
    }
   ],
   "source": [
    "physics = float(input(\"Enter marks for Physics: \"))\n",
    "chemistry = float(input(\"Enter marks for Chemistry: \"))\n",
    "biology = float(input(\"Enter marks for Biology: \"))\n",
    "mathematics = float(input(\"Enter marks for Mathematics: \"))\n",
    "computer = float(input(\"Enter marks for Computer: \"))\n",
    "\n",
    "total_marks = physics + chemistry + biology + mathematics + computer\n",
    "percentage = (total_marks / 500) * 100\n",
    "\n",
    "if percentage >= 90:\n",
    "    grade = 'A'\n",
    "elif percentage >= 80:\n",
    "    grade = 'B'\n",
    "elif percentage >= 70:\n",
    "    grade = 'C'\n",
    "elif percentage >= 60:\n",
    "    grade = 'D'\n",
    "elif percentage >= 40:\n",
    "    grade = 'E'\n",
    "else:\n",
    "    grade = 'F'\n",
    "\n",
    "print(\"Percentage: {:.2f}%\".format(percentage))\n",
    "print(\"Grade: {}\".format(grade))"
   ]
  },
  {
   "cell_type": "code",
   "execution_count": 43,
   "id": "e071295a",
   "metadata": {},
   "outputs": [
    {
     "name": "stdout",
     "output_type": "stream",
     "text": [
      "Enter the basic salary: 120000\n",
      "Gross Salary: 270000.00\n"
     ]
    }
   ],
   "source": [
    "basic_salary = float(input(\"Enter the basic salary: \"))\n",
    "\n",
    "if basic_salary <= 10000:\n",
    "    hra = basic_salary * 0.2\n",
    "    da = basic_salary * 0.8\n",
    "elif basic_salary <= 20000:\n",
    "    hra = basic_salary * 0.25\n",
    "    da = basic_salary * 0.9\n",
    "else:\n",
    "    hra = basic_salary * 0.3\n",
    "    da = basic_salary * 0.95\n",
    "\n",
    "gross_salary = basic_salary + hra + da\n",
    "\n",
    "print(\"Gross Salary: {:.2f}\".format(gross_salary))"
   ]
  },
  {
   "cell_type": "code",
   "execution_count": 44,
   "id": "469773c5",
   "metadata": {},
   "outputs": [
    {
     "name": "stdout",
     "output_type": "stream",
     "text": [
      "Enter the electricity units consumed: 180\n",
      "Total Electricity Bill: Rs. 163.20\n"
     ]
    }
   ],
   "source": [
    "units = int(input(\"Enter the electricity units consumed: \"))\n",
    "\n",
    "total_bill = 0\n",
    "\n",
    "if units <= 50:\n",
    "    total_bill = units * 0.50\n",
    "elif units <= 150:\n",
    "    total_bill = (50 * 0.50) + ((units - 50) * 0.75)\n",
    "elif units <= 250:\n",
    "    total_bill = (50 * 0.50) + (100 * 0.75) + ((units - 150) * 1.20)\n",
    "else:\n",
    "    total_bill = (50 * 0.50) + (100 * 0.75) + (100 * 1.20) + ((units - 250) * 1.50)\n",
    "\n",
    "surcharge = total_bill * 0.20\n",
    "\n",
    "total_bill += surcharge\n",
    "\n",
    "print(\"Total Electricity Bill: Rs. {:.2f}\".format(total_bill))"
   ]
  },
  {
   "cell_type": "code",
   "execution_count": null,
   "id": "b270099f",
   "metadata": {},
   "outputs": [],
   "source": []
  }
 ],
 "metadata": {
  "kernelspec": {
   "display_name": "Python 3 (ipykernel)",
   "language": "python",
   "name": "python3"
  },
  "language_info": {
   "codemirror_mode": {
    "name": "ipython",
    "version": 3
   },
   "file_extension": ".py",
   "mimetype": "text/x-python",
   "name": "python",
   "nbconvert_exporter": "python",
   "pygments_lexer": "ipython3",
   "version": "3.10.9"
  }
 },
 "nbformat": 4,
 "nbformat_minor": 5
}
