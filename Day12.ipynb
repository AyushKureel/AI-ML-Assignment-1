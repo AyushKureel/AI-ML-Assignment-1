{
 "cells": [
  {
   "cell_type": "code",
   "execution_count": 1,
   "id": "224940e9",
   "metadata": {},
   "outputs": [
    {
     "name": "stdout",
     "output_type": "stream",
     "text": [
      "Welcome to the Guess Game!\n",
      "Guess a number between 1 and 50.\n",
      "Enter your guess: 30\n",
      "Hint: Think of a smaller number!\n",
      "Chances remaining: 4\n",
      "Enter your guess: 10\n",
      "Hint: Think of a smaller number!\n",
      "Chances remaining: 3\n",
      "Enter your guess: 5\n",
      "Hint: Think of a smaller number!\n",
      "Chances remaining: 2\n",
      "Enter your guess: 3\n",
      "Hint: Think of a smaller number!\n",
      "Chances remaining: 1\n",
      "Enter your guess: 1\n",
      "Hint: Think of a bigger number!\n",
      "Chances remaining: 0\n",
      "You ran out of chances. The actual number was: 2\n"
     ]
    }
   ],
   "source": [
    "import random\n",
    "\n",
    "actual_number = random.randint(1, 50)\n",
    "chances = 5\n",
    "\n",
    "print(\"Welcome to the Guess Game!\")\n",
    "print(\"Guess a number between 1 and 50.\")\n",
    "\n",
    "while chances > 0:\n",
    "    try:\n",
    "        guess = int(input(\"Enter your guess: \"))\n",
    "    except ValueError:\n",
    "        print(\"Invalid input. Please enter a number.\")\n",
    "        continue\n",
    "\n",
    "    if guess < 1 or guess > 50:\n",
    "        print(\"Think within limits 1-50 only!\")\n",
    "        continue\n",
    "\n",
    "    if guess == actual_number:\n",
    "        print(\"Congratulations! You guessed the correct number.\")\n",
    "        break\n",
    "\n",
    "    if guess < actual_number:\n",
    "        print(\"Hint: Think of a bigger number!\")\n",
    "    else:\n",
    "        print(\"Hint: Think of a smaller number!\")\n",
    "\n",
    "    chances = chances-1\n",
    "    print(\"Chances remaining:\", chances)\n",
    "\n",
    "if chances == 0:\n",
    "    print(\"You ran out of chances. The actual number was:\", actual_number)"
   ]
  },
  {
   "cell_type": "code",
   "execution_count": null,
   "id": "d08a2bb5",
   "metadata": {},
   "outputs": [],
   "source": []
  }
 ],
 "metadata": {
  "kernelspec": {
   "display_name": "Python 3 (ipykernel)",
   "language": "python",
   "name": "python3"
  },
  "language_info": {
   "codemirror_mode": {
    "name": "ipython",
    "version": 3
   },
   "file_extension": ".py",
   "mimetype": "text/x-python",
   "name": "python",
   "nbconvert_exporter": "python",
   "pygments_lexer": "ipython3",
   "version": "3.10.9"
  }
 },
 "nbformat": 4,
 "nbformat_minor": 5
}
